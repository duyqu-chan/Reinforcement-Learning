{
  "nbformat": 4,
  "nbformat_minor": 0,
  "metadata": {
    "colab": {
      "name": "Optimal_Path_Finding.ipynb",
      "provenance": [],
      "collapsed_sections": [],
      "toc_visible": true,
      "include_colab_link": true
    },
    "kernelspec": {
      "name": "python3",
      "display_name": "Python 3"
    }
  },
  "cells": [
    {
      "cell_type": "markdown",
      "metadata": {
        "id": "view-in-github",
        "colab_type": "text"
      },
      "source": [
        "<a href=\"https://colab.research.google.com/github/duyqu-chan/Reinforcement-Learning/blob/master/Optimal_Path_Finding.ipynb\" target=\"_parent\"><img src=\"https://colab.research.google.com/assets/colab-badge.svg\" alt=\"Open In Colab\"/></a>"
      ]
    },
    {
      "cell_type": "markdown",
      "metadata": {
        "id": "n0uk3nWNQG9V",
        "colab_type": "text"
      },
      "source": [
        "# Finding Shortest Path with Q-Learning\n",
        "\n",
        "Duygu Can\n",
        "---\n",
        "Starting from node 0,  we need to find the shortest path to node 10 in the undirected graph shown below, with *Q-Learning* algorithm. "
      ]
    },
    {
      "cell_type": "code",
      "metadata": {
        "id": "YMCGqSs-NtmL",
        "colab_type": "code",
        "outputId": "066d6ffa-127c-46f6-9933-c30c4bb8a820",
        "colab": {
          "base_uri": "https://localhost:8080/",
          "height": 247
        }
      },
      "source": [
        "import networkx as nx\n",
        "import pylab as pl\n",
        "edges = [(0, 4), (4, 0), (0, 3), (3, 0), (1, 2), (2, 1),\n",
        "         (1, 4), (4, 1), (1, 8), (8, 1), (1, 9), (9, 1),\n",
        "         (2, 3), (3, 2), (2, 6), (6, 2), (1, 5), (5, 1),\n",
        "         (2, 5), (5, 2), (5, 6), (6, 5), (7, 8), (8, 7),\n",
        "         (7, 5), (5, 7), (8, 9), (9, 8), (8, 10), (10, 8),\n",
        "         (9, 10), (10, 9)]\n",
        "\n",
        "G = nx.Graph()\n",
        "G.add_edges_from(edges)\n",
        "pos = nx.spring_layout(G)\n",
        "nx.draw_networkx_nodes(G, pos)\n",
        "nx.draw_networkx_edges(G, pos)\n",
        "nx.draw_networkx_labels(G, pos)\n",
        "pl.show()"
      ],
      "execution_count": 1,
      "outputs": [
        {
          "output_type": "display_data",
          "data": {
            "image/png": "[encoded data removed]",
            "text/plain": [
              "<Figure size 432x288 with 1 Axes>"
            ]
          },
          "metadata": {
            "tags": []
          }
        }
      ]
    },
    {
      "cell_type": "markdown",
      "metadata": {
        "id": "1sCqdnSHW7ZV",
        "colab_type": "text"
      },
      "source": [
        "The *networkx* library randomly generates this graph. We will define $n_i$ as $i^{th}$ node of the graph for $i = 0, 1, ..., 10$ and $r(n_i,n_j)$ is the reward gained during transition from state $n_i$ to $n_j$. In general, the reward of allowable actions are set to zero except when entering the goal state ($n_{10}$). However, unallowed transitions should also be punished (i.e. negative reward). \n",
        "\n",
        "\\begin{equation*}\n",
        "r(n_i, n_j) = \\left\\{\n",
        "\\begin{array}{rl}\n",
        "-1 & \\text{if } n_i \\text{ & } n_j \\text{ are not connected} ,\\\\\n",
        "+1 & \\text{if } j = 10 \\text{ (goal)}\\\\\n",
        "0 & \\text{otherwise}.\n",
        "\\end{array} \\right.\n",
        "\\end{equation*}\n",
        "\n",
        "Using this case defined function for reward, lets form a reward matrix.\n",
        "\n",
        "\n"
      ]
    },
    {
      "cell_type": "code",
      "metadata": {
        "id": "jMvS08OZDn7q",
        "colab_type": "code",
        "outputId": "f003e01a-6a45-4b34-bb5d-ca473a39174d",
        "colab": {
          "base_uri": "https://localhost:8080/",
          "height": 212
        }
      },
      "source": [
        "import numpy as np\n",
        "N = 11 #size of reward matrix\n",
        "R = np.matrix(np.ones(shape =(N, N))) #initialize an NxN matrix for reward \n",
        "R *= -1 #set all entries to -1 (assuming unallowed transition)\n",
        "  \n",
        "for node in edges: #loop over nodes\n",
        "    #print(node) \n",
        "    if node[1] == 10:    #if the transition of interest leads to the goal state,\n",
        "        R[node] = 1      #give a reward.\n",
        "    else:                #if not,\n",
        "        R[node] = 0      #no reward.\n",
        "\n",
        "R[10, 10]= 1 #the closed loop from goal to goal is rewarded to force staying action\n",
        "print(R) "
      ],
      "execution_count": 2,
      "outputs": [
        {
          "output_type": "stream",
          "text": [
            "[[-1. -1. -1.  0.  0. -1. -1. -1. -1. -1. -1.]\n",
            " [-1. -1.  0. -1.  0.  0. -1. -1.  0.  0. -1.]\n",
            " [-1.  0. -1.  0. -1.  0.  0. -1. -1. -1. -1.]\n",
            " [ 0. -1.  0. -1. -1. -1. -1. -1. -1. -1. -1.]\n",
            " [ 0.  0. -1. -1. -1. -1. -1. -1. -1. -1. -1.]\n",
            " [-1.  0.  0. -1. -1. -1.  0.  0. -1. -1. -1.]\n",
            " [-1. -1.  0. -1. -1.  0. -1. -1. -1. -1. -1.]\n",
            " [-1. -1. -1. -1. -1.  0. -1. -1.  0. -1. -1.]\n",
            " [-1.  0. -1. -1. -1. -1. -1.  0. -1.  0.  1.]\n",
            " [-1.  0. -1. -1. -1. -1. -1. -1.  0. -1.  1.]\n",
            " [-1. -1. -1. -1. -1. -1. -1. -1.  0.  0.  1.]]\n"
          ],
          "name": "stdout"
        }
      ]
    },
    {
      "cell_type": "markdown",
      "metadata": {
        "id": "skwr9dHFYN4M",
        "colab_type": "text"
      },
      "source": [
        "For each state and action we need to initialize Q-estimates to zero (i.e. $\\hat{Q}(s,a) = 0$). Notice that in this study I am using state and node interchangebly. Let us also define the discount factor, $\\gamma$, as $0.5$."
      ]
    },
    {
      "cell_type": "code",
      "metadata": {
        "id": "r-dAdOI1bFQW",
        "colab_type": "code",
        "outputId": "6fe9f38e-543a-4ad2-9216-b8a056333229",
        "colab": {
          "base_uri": "https://localhost:8080/",
          "height": 212
        }
      },
      "source": [
        "Q = np.matrix(np.zeros([N, N]))\n",
        "gamma = 0.5\n",
        "print(Q)"
      ],
      "execution_count": 3,
      "outputs": [
        {
          "output_type": "stream",
          "text": [
            "[[0. 0. 0. 0. 0. 0. 0. 0. 0. 0. 0.]\n",
            " [0. 0. 0. 0. 0. 0. 0. 0. 0. 0. 0.]\n",
            " [0. 0. 0. 0. 0. 0. 0. 0. 0. 0. 0.]\n",
            " [0. 0. 0. 0. 0. 0. 0. 0. 0. 0. 0.]\n",
            " [0. 0. 0. 0. 0. 0. 0. 0. 0. 0. 0.]\n",
            " [0. 0. 0. 0. 0. 0. 0. 0. 0. 0. 0.]\n",
            " [0. 0. 0. 0. 0. 0. 0. 0. 0. 0. 0.]\n",
            " [0. 0. 0. 0. 0. 0. 0. 0. 0. 0. 0.]\n",
            " [0. 0. 0. 0. 0. 0. 0. 0. 0. 0. 0.]\n",
            " [0. 0. 0. 0. 0. 0. 0. 0. 0. 0. 0.]\n",
            " [0. 0. 0. 0. 0. 0. 0. 0. 0. 0. 0.]]\n"
          ],
          "name": "stdout"
        }
      ]
    },
    {
      "cell_type": "markdown",
      "metadata": {
        "id": "XHGn1zgt4EGn",
        "colab_type": "text"
      },
      "source": [
        "Our initial state is $0^{th}$ node. Below we see rewards gained from each transition rooting from the initial state."
      ]
    },
    {
      "cell_type": "code",
      "metadata": {
        "id": "VsgkPH2g4DkX",
        "colab_type": "code",
        "colab": {
          "base_uri": "https://localhost:8080/",
          "height": 34
        },
        "outputId": "5f70a4e9-6c59-4109-fb93-81cdb983b21f"
      },
      "source": [
        "R[0,]"
      ],
      "execution_count": 4,
      "outputs": [
        {
          "output_type": "execute_result",
          "data": {
            "text/plain": [
              "matrix([[-1., -1., -1.,  0.,  0., -1., -1., -1., -1., -1., -1.]])"
            ]
          },
          "metadata": {
            "tags": []
          },
          "execution_count": 4
        }
      ]
    },
    {
      "cell_type": "markdown",
      "metadata": {
        "id": "22sNHJGf5CYc",
        "colab_type": "text"
      },
      "source": [
        "However, not all actions are allowed. Remember that there is no transition between unconnected nodes, so such actions are rewarded negatively (i.e with -100). So, available actions are non-zero ones. As it is seen from the graph above 0th node is connected to 3rd and 4th nodes."
      ]
    },
    {
      "cell_type": "code",
      "metadata": {
        "id": "_jEhgo966hv0",
        "colab_type": "code",
        "colab": {
          "base_uri": "https://localhost:8080/",
          "height": 34
        },
        "outputId": "7177256b-7099-4322-f44e-f4e405e4852e"
      },
      "source": [
        "np.where(R[0,] >= 0)[1]"
      ],
      "execution_count": 5,
      "outputs": [
        {
          "output_type": "execute_result",
          "data": {
            "text/plain": [
              "array([3, 4])"
            ]
          },
          "metadata": {
            "tags": []
          },
          "execution_count": 5
        }
      ]
    },
    {
      "cell_type": "markdown",
      "metadata": {
        "id": "fS7uVoKV7ax6",
        "colab_type": "text"
      },
      "source": [
        "The function below generalizes this to any node given."
      ]
    },
    {
      "cell_type": "code",
      "metadata": {
        "id": "GyWAl47H7g48",
        "colab_type": "code",
        "colab": {
          "base_uri": "https://localhost:8080/",
          "height": 34
        },
        "outputId": "ff45e136-1b1a-419a-fce2-f40090a4eec7"
      },
      "source": [
        "def possible_transitions(node): \n",
        "    ''' Finds available actions that can be taken in a state.'''\n",
        "\n",
        "    rewards_for_state = R[node, ] # find the row related to the given state\n",
        "\n",
        "    #chose final states of the actions with nonzero reward values\n",
        "    possible_transition = np.where(rewards_for_state >= 0)[1]\n",
        "\n",
        "    return possible_transition\n",
        "#test\n",
        "print(possible_transitions(0)) "
      ],
      "execution_count": 6,
      "outputs": [
        {
          "output_type": "stream",
          "text": [
            "[3 4]\n"
          ],
          "name": "stdout"
        }
      ]
    },
    {
      "cell_type": "markdown",
      "metadata": {
        "id": "Yn7kCIH8BF15",
        "colab_type": "text"
      },
      "source": [
        "Let's choose a random action from the possible transitions. The number printed below will be index of the one of the nodes that can be taken from the 0th node."
      ]
    },
    {
      "cell_type": "code",
      "metadata": {
        "id": "dOvYt-7fBTX1",
        "colab_type": "code",
        "colab": {
          "base_uri": "https://localhost:8080/",
          "height": 34
        },
        "outputId": "6f0c4ada-bec0-4efa-aaa7-b639cea6044d"
      },
      "source": [
        "int(np.random.choice(possible_transitions(0), 1)) "
      ],
      "execution_count": 7,
      "outputs": [
        {
          "output_type": "execute_result",
          "data": {
            "text/plain": [
              "3"
            ]
          },
          "metadata": {
            "tags": []
          },
          "execution_count": 7
        }
      ]
    },
    {
      "cell_type": "markdown",
      "metadata": {
        "id": "SnxdVedFB1Me",
        "colab_type": "text"
      },
      "source": [
        "Similarly it can be generalized to other nodes, as below."
      ]
    },
    {
      "cell_type": "code",
      "metadata": {
        "id": "dPXvJJSKB3ux",
        "colab_type": "code",
        "colab": {
          "base_uri": "https://localhost:8080/",
          "height": 34
        },
        "outputId": "2ab557e2-2408-450e-d700-479d886c2433"
      },
      "source": [
        "def next_state(possible_transitions_range): \n",
        "    ''' Random sampling of available actions'''\n",
        "\n",
        "    next = int(np.random.choice(possible_transitions_range, 1)) \n",
        "    return next\n",
        "\n",
        "#test\n",
        "node = 0\n",
        "actions_available = possible_transitions(node)\n",
        "next_node = next_state(actions_available)\n",
        "print(next_node)"
      ],
      "execution_count": 8,
      "outputs": [
        {
          "output_type": "stream",
          "text": [
            "3\n"
          ],
          "name": "stdout"
        }
      ]
    },
    {
      "cell_type": "markdown",
      "metadata": {
        "id": "kuPHeugJEzpe",
        "colab_type": "text"
      },
      "source": [
        "Learner's estimate will be updated according to the following training rule,\n",
        "\n",
        "$ \\hat{Q}(s,a) \\leftarrow r + \n",
        "\\gamma \\text{ }\\underset{a \\prime}max \\hat{Q}(s \\prime,a\\prime) $\n",
        "\n",
        "where $s$ and $s \\prime$ define current and succeeding states respectively; $a$ is the action taken to reach the succeeding state; $a \\prime$ stands for all possible action that can be taken in the succeeding state; $r$ is for immediate reward and finally  $\\gamma$ is the discount factor used in determining discounted future rewards ($0\\leq \\gamma \\leq 1$).\n",
        "\n",
        "Let's update Q-estimates for a randomly chosen path."
      ]
    },
    {
      "cell_type": "code",
      "metadata": {
        "id": "TBc3Y0FdE0C9",
        "colab_type": "code",
        "colab": {
          "base_uri": "https://localhost:8080/",
          "height": 34
        },
        "outputId": "63f66d8d-60a5-49be-8fc0-8e4918f1afd4"
      },
      "source": [
        "def update(current_node, next_node, gamma): \n",
        "    ''' This function updates Q-estimates after each episode'''\n",
        "    #indices of Q-matrix entries (of succeeding states) with maximum values are found\n",
        "    max_index = np.where(Q[next_node, ] == np.max(Q[next_node, ]))[1] \n",
        "    #FINDING GREEDY ACTION\n",
        "    #if number of max valued matrix entries is more than one,\n",
        "    #just randomly choose one of them \n",
        "    if max_index.shape[0] > 1:\n",
        "        max_index = int(np.random.choice(max_index, size = 1)) \n",
        "    else: #if not the index we found determines the max valued transition (action)\n",
        "        max_index = int(max_index) #of the succeeding state\n",
        "    \n",
        "    max_value = Q[next_node, max_index]\n",
        "    #Updating Q-estimates according to Bellman equation\n",
        "    Q[current_node, next_node] = R[current_node, next_node] + gamma*max_value\n",
        "    if (np.max(Q) > 0):\n",
        "        return(np.sum(Q / np.max(Q))) #scaling\n",
        "    else:\n",
        "        return (0) \n",
        "#test\n",
        "# Since Q-matrix entries initialized as zero, and no reward gained for \n",
        "# transitions from 0th node to other possible states at first trial its value\n",
        "# remains the same.\n",
        "update(0, next_node, gamma) "
      ],
      "execution_count": 9,
      "outputs": [
        {
          "output_type": "execute_result",
          "data": {
            "text/plain": [
              "0"
            ]
          },
          "metadata": {
            "tags": []
          },
          "execution_count": 9
        }
      ]
    },
    {
      "cell_type": "markdown",
      "metadata": {
        "id": "TzHgrlAw4Ijv",
        "colab_type": "text"
      },
      "source": [
        "## Training\n",
        "\n",
        "Starting at a random node the agent explorates random paths, updating Q-estimates at each iteration. Finally, Q-estimates converges to optimal Q-values defining state-action transitions."
      ]
    },
    {
      "cell_type": "code",
      "metadata": {
        "id": "L-Djot8EG14C",
        "colab_type": "code",
        "colab": {
          "base_uri": "https://localhost:8080/",
          "height": 230
        },
        "outputId": "944efb11-e81b-43fa-9f15-288b9885def9"
      },
      "source": [
        "scores = [] #initialize an empty array for scores gained durint training\n",
        "for i in range(2000): #actually upon experiment, 750 episodes is found enough for convergence\n",
        "    current_state = np.random.randint(0, int(Q.shape[0])) #choose a random state\n",
        "    available_node =possible_transitions(current_state) #explore succeeding states\n",
        "    action = next_state(available_node) #take greedy action\n",
        "    score = update(current_state, action, gamma) #update score value related to that action/transition acc. to Bellman eqn.\n",
        "    scores.append(score) #record scores gai\n",
        "  \n",
        "print(\"Converged Q-matrix:\") \n",
        "print(Q)"
      ],
      "execution_count": 10,
      "outputs": [
        {
          "output_type": "stream",
          "text": [
            "Converged Q-matrix:\n",
            "[[0.    0.    0.    0.125 0.25  0.    0.    0.    0.    0.    0.   ]\n",
            " [0.    0.    0.25  0.    0.25  0.25  0.    0.    1.    1.    0.   ]\n",
            " [0.    0.5   0.    0.125 0.    0.25  0.125 0.    0.    0.    0.   ]\n",
            " [0.125 0.    0.25  0.    0.    0.    0.    0.    0.    0.    0.   ]\n",
            " [0.125 0.5   0.    0.    0.    0.    0.    0.    0.    0.    0.   ]\n",
            " [0.    0.5   0.25  0.    0.    0.    0.125 0.5   0.    0.    0.   ]\n",
            " [0.    0.    0.25  0.    0.    0.25  0.    0.    0.    0.    0.   ]\n",
            " [0.    0.    0.    0.    0.    0.25  0.    0.    1.    0.    0.   ]\n",
            " [0.    0.5   0.    0.    0.    0.    0.    0.5   0.    1.    2.   ]\n",
            " [0.    0.5   0.    0.    0.    0.    0.    0.    1.    0.    2.   ]\n",
            " [0.    0.    0.    0.    0.    0.    0.    0.    1.    1.    2.   ]]\n"
          ],
          "name": "stdout"
        }
      ]
    },
    {
      "cell_type": "markdown",
      "metadata": {
        "id": "2RG9PPNlKeKr",
        "colab_type": "text"
      },
      "source": [
        "## Solution\n",
        "\n",
        "Our aim is to find the optimal path from 0th node to 10th node. Our optimization policy is taking the greedy action."
      ]
    },
    {
      "cell_type": "code",
      "metadata": {
        "id": "VoR2T5BziLyu",
        "colab_type": "code",
        "colab": {
          "base_uri": "https://localhost:8080/",
          "height": 314
        },
        "outputId": "e7dd06dc-27e0-4269-a1b0-0122de9d4261"
      },
      "source": [
        "current_state = 0 #current state is initialized to origin (0th node) at start\n",
        "path = [current_state] #an array to keep the path to be followed\n",
        "  \n",
        "while current_state != 10: #while we are far away from the goal continue\n",
        "    #find action to be taken (i.e. succeeding state to be traveled)\n",
        "    next_step_index = np.where(Q[current_state, ] == np.max(Q[current_state, ]))[1] \n",
        "    if next_step_index.shape[0] > 1: #if there are more than one such states\n",
        "        #choose one of them randomly\n",
        "        next_step_index = int(np.random.choice(next_step_index, size = 1)) \n",
        "    else: #if not\n",
        "        next_step_index = int(next_step_index) #stick to that action\n",
        "    path.append(next_step_index) #append optimal succeeding action to the list\n",
        "    current_state = next_step_index #update the state\n",
        "  \n",
        "print(\"Optimal Policy:\") \n",
        "print(path) \n",
        "  \n",
        "pl.plot(scores) \n",
        "pl.xlabel('Episodes') \n",
        "pl.ylabel('Total Reward') \n",
        "pl.show() "
      ],
      "execution_count": 11,
      "outputs": [
        {
          "output_type": "stream",
          "text": [
            "Optimal Policy:\n",
            "[0, 4, 1, 9, 10]\n"
          ],
          "name": "stdout"
        },
        {
          "output_type": "display_data",
          "data": {
            "image/png": "[encoded data removed]",
            "text/plain": [
              "<Figure size 432x288 with 1 Axes>"
            ]
          },
          "metadata": {
            "tags": []
          }
        }
      ]
    },
    {
      "cell_type": "markdown",
      "metadata": {
        "id": "-Wc1js36U8mX",
        "colab_type": "text"
      },
      "source": [
        "## Experimenting with Different Discount Factors"
      ]
    },
    {
      "cell_type": "markdown",
      "metadata": {
        "id": "ClQCDq9kVJAe",
        "colab_type": "text"
      },
      "source": [
        "### No Future Reward\n",
        "\n",
        "For $\\gamma=0$, a stationary solution is found in 100 iterations but the solution found is not optimal. If the learner does not care for future reward at all, it converges to **wrong** solution faster."
      ]
    },
    {
      "cell_type": "code",
      "metadata": {
        "id": "p_hNjOD8Wu_u",
        "colab_type": "code",
        "colab": {
          "base_uri": "https://localhost:8080/",
          "height": 314
        },
        "outputId": "9691d6e5-3c78-4a21-f657-c16688740a12"
      },
      "source": [
        "Q = np.matrix(np.zeros([N, N]))\n",
        "import numpy as np\n",
        "N = 11 #size of reward matrix\n",
        "R = np.matrix(np.ones(shape =(N, N))) #initialize an NxN matrix for reward \n",
        "R *= -1 #set all entries to -1 (assuming unallowed transition)\n",
        "  \n",
        "for node in edges: #loop over nodes\n",
        "    #print(node) \n",
        "    if node[1] == 10:    #if the transition of interest leads to the goal state,\n",
        "        R[node] = 1      #give a reward.\n",
        "    else:                #if not,\n",
        "        R[node] = 0      #no reward.\n",
        "\n",
        "R[10, 10]= 1 #the closed loop from goal to goal is rewarded to force staying action\n",
        "gamma = 0\n",
        "scores = [] #initialize an empty array for scores gained durint training\n",
        "for i in range(2000): \n",
        "    current_state = np.random.randint(0, int(Q.shape[0])) \n",
        "    available_node =possible_transitions(current_state) \n",
        "    action = next_state(available_node) \n",
        "    score = update(current_state, action, gamma) \n",
        "    scores.append(score)\n",
        "\n",
        "current_state = 0 #current state is initialized to origin (0th node) at start\n",
        "path = [current_state] #an array to keep the path to be followed\n",
        "  \n",
        "while current_state != 10: #while we are far away from the goal continue\n",
        "    #find action to be taken (i.e. succeeding state to be traveled)\n",
        "    next_step_index = np.where(Q[current_state, ] == np.max(Q[current_state, ]))[1] \n",
        "    if next_step_index.shape[0] > 1: #if there are more than one such states\n",
        "        #choose one of them randomly\n",
        "        next_step_index = int(np.random.choice(next_step_index, size = 1)) \n",
        "    else: #if not\n",
        "        next_step_index = int(next_step_index) #stick to that action\n",
        "    path.append(next_step_index) #append optimal succeeding action to the list\n",
        "    current_state = next_step_index #update the state\n",
        "  \n",
        "print(\"Optimal Policy:\") \n",
        "print(path) \n",
        "  \n",
        "pl.plot(scores) \n",
        "pl.xlabel('Episodes') \n",
        "pl.ylabel('Total Reward') \n",
        "pl.show() "
      ],
      "execution_count": 12,
      "outputs": [
        {
          "output_type": "stream",
          "text": [
            "Optimal Policy:\n",
            "[0, 7, 1, 10]\n"
          ],
          "name": "stdout"
        },
        {
          "output_type": "display_data",
          "data": {
            "image/png": "[encoded data removed]",
            "text/plain": [
              "<Figure size 432x288 with 1 Axes>"
            ]
          },
          "metadata": {
            "tags": []
          }
        }
      ]
    },
    {
      "cell_type": "markdown",
      "metadata": {
        "id": "d4BYJy2GZThc",
        "colab_type": "text"
      },
      "source": [
        "### All Eyes on the Future\n",
        "\n",
        "For $\\gamma=1$, the optimal policy is found in ~2500 iterations."
      ]
    },
    {
      "cell_type": "code",
      "metadata": {
        "id": "VmariALpbMji",
        "colab_type": "code",
        "colab": {
          "base_uri": "https://localhost:8080/",
          "height": 314
        },
        "outputId": "5a1a24a1-fd46-4510-ce07-235ed3ea0109"
      },
      "source": [
        "Q = np.matrix(np.zeros([N, N]))\n",
        "import numpy as np\n",
        "N = 11 #size of reward matrix\n",
        "R = np.matrix(np.ones(shape =(N, N))) #initialize an NxN matrix for reward \n",
        "R *= -1 #set all entries to -1 (assuming unallowed transition)\n",
        "  \n",
        "for node in edges: #loop over nodes\n",
        "    #print(node) \n",
        "    if node[1] == 10:    #if the transition of interest leads to the goal state,\n",
        "        R[node] = 1      #give a reward.\n",
        "    else:                #if not,\n",
        "        R[node] = 0      #no reward.\n",
        "\n",
        "R[10, 10]= 1 #the closed loop from goal to goal is rewarded to force staying action\n",
        "gamma = 1\n",
        "scores = [] #initialize an empty array for scores gained durint training\n",
        "for i in range(5000): \n",
        "    current_state = np.random.randint(0, int(Q.shape[0])) \n",
        "    available_node =possible_transitions(current_state) \n",
        "    action = next_state(available_node) \n",
        "    score = update(current_state, action, gamma) \n",
        "    scores.append(score)\n",
        "\n",
        "current_state = 0 #current state is initialized to origin (0th node) at start\n",
        "path = [current_state] #an array to keep the path to be followed\n",
        "  \n",
        "while current_state != 10: #while we are far away from the goal continue\n",
        "    #find action to be taken (i.e. succeeding state to be traveled)\n",
        "    next_step_index = np.where(Q[current_state, ] == np.max(Q[current_state, ]))[1] \n",
        "    if next_step_index.shape[0] > 1: #if there are more than one such states\n",
        "        #choose one of them randomly\n",
        "        next_step_index = int(np.random.choice(next_step_index, size = 1)) \n",
        "    else: #if not\n",
        "        next_step_index = int(next_step_index) #stick to that action\n",
        "    path.append(next_step_index) #append optimal succeeding action to the list\n",
        "    current_state = next_step_index #update the state\n",
        "  \n",
        "print(\"Optimal Policy:\") \n",
        "print(path) \n",
        "  \n",
        "pl.plot(scores) \n",
        "pl.xlabel('Episodes') \n",
        "pl.ylabel('Total Reward') \n",
        "pl.show() "
      ],
      "execution_count": 13,
      "outputs": [
        {
          "output_type": "stream",
          "text": [
            "Optimal Policy:\n",
            "[0, 3, 2, 6, 2, 1, 8, 10]\n"
          ],
          "name": "stdout"
        },
        {
          "output_type": "display_data",
          "data": {
            "image/png": "[encoded data removed]",
            "text/plain": [
              "<Figure size 432x288 with 1 Axes>"
            ]
          },
          "metadata": {
            "tags": []
          }
        }
      ]
    },
    {
      "cell_type": "markdown",
      "metadata": {
        "id": "WArxgUmAVO1i",
        "colab_type": "text"
      },
      "source": [
        "## Discussion\n",
        "\n",
        "A discount factor of 0 means that the agent only cares about immediate rewards. When we set $\\gamma=0$, we observed that the learner converges faster but not to the optimal solution.\n",
        "\n",
        "When $\\gamma=1$ then there is no discount in the cumulative of future rewards. The learner gives equal importance to *now* and *future*. It needs more time to converge to the optimal policy, because it becomes over-sensitive about the possibilities that can be arised in a later time (like a person with an anxiety dirorder). This is apparent from the noisy characteristics of the learning curve.\n",
        "\n",
        "When a value in between is chosen (i.e. $\\gamma = 0.5) the optimal policy is found in good convergence time and learning curve is smoother. Thus, the learner exoerience no difficulty during convergence.\n",
        "\n",
        "If we decrease discount factor the learner learns optimal policy faster but it should not be totally eliminated."
      ]
    },
    {
      "cell_type": "markdown",
      "metadata": {
        "id": "f36NyYP7kX6x",
        "colab_type": "text"
      },
      "source": [
        "## References\n",
        "\n",
        "1. [Intro to Reinforcement Learning: Q-Learning 101](https://medium.com/analytics-vidhya/intro-to-reinforcement-learning-q-learning-101-8df55fed9be0)\n",
        "2. [Understanding Q-Learning, the Cliff Walking problem](https://medium.com/@lgvaz/understanding-q-learning-the-cliff-walking-problem-80198921abbc)\n",
        "3. [An introduction to Q-Learning: reinforcement learning](https://www.freecodecamp.org/news/an-introduction-to-q-learning-reinforcement-learning-14ac0b4493cc/)\n",
        "4. Machine Learning, Tom Mitchell, McGraw Hill, 1997.\n",
        "5. [ML | Reinforcement Learning Algorithm : Python Implementation using Q-learning](https://www.geeksforgeeks.org/ml-reinforcement-learning-algorithm-python-implementation-using-q-learning/)"
      ]
    }
  ]
}