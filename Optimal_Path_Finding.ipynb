{
  "nbformat": 4,
  "nbformat_minor": 0,
  "metadata": {
    "colab": {
      "name": "Optimal_Path_Finding.ipynb",
      "provenance": [],
      "collapsed_sections": [],
      "include_colab_link": true
    },
    "kernelspec": {
      "name": "python3",
      "display_name": "Python 3"
    }
  },
  "cells": [
    {
      "cell_type": "markdown",
      "metadata": {
        "id": "view-in-github",
        "colab_type": "text"
      },
      "source": [
        "<a href=\"https://colab.research.google.com/github/duyqu-chan/Reinforcement-Learning/blob/master/Optimal_Path_Finding.ipynb\" target=\"_parent\"><img src=\"https://colab.research.google.com/assets/colab-badge.svg\" alt=\"Open In Colab\"/></a>"
      ]
    },
    {
      "cell_type": "markdown",
      "metadata": {
        "id": "n0uk3nWNQG9V",
        "colab_type": "text"
      },
      "source": [
        "# Finding Shortest Path with Q-Learning\n",
        "\n",
        "Duygu Can\n",
        "---\n",
        "Starting from node 0,  we need to find the shortest path to node 10 in the undirected graph shown below, with *Q-Learning* algorithm. "
      ]
    },
    {
      "cell_type": "code",
      "metadata": {
        "id": "YMCGqSs-NtmL",
        "colab_type": "code",
        "outputId": "e8dc48fc-6f12-4f74-fbdd-83c6575179a4",
        "colab": {
          "base_uri": "https://localhost:8080/",
          "height": 247
        }
      },
      "source": [
        "import networkx as nx\n",
        "import pylab as pl\n",
        "edges = [(0, 4), (4, 0), (0, 3), (3, 0), (1, 2), (2, 1),\n",
        "         (1, 4), (4, 1), (1, 8), (8, 1), (1, 9), (9, 1),\n",
        "         (2, 3), (3, 2), (2, 6), (6, 2), (1, 5), (5, 1),\n",
        "         (2, 5), (5, 2), (5, 6), (6, 5), (7, 8), (8, 7),\n",
        "         (7, 5), (5, 7), (8, 9), (9, 8), (8, 10), (10, 8),\n",
        "         (9, 10), (10, 9)]\n",
        "\n",
        "G = nx.Graph()\n",
        "G.add_edges_from(edges)\n",
        "pos = nx.spring_layout(G)\n",
        "nx.draw_networkx_nodes(G, pos)\n",
        "nx.draw_networkx_edges(G, pos)\n",
        "nx.draw_networkx_labels(G, pos)\n",
        "pl.show()"
      ],
      "execution_count": 54,
      "outputs": [
        {
          "output_type": "display_data",
          "data": {
            "image/png": "[encoded data removed]",
            "text/plain": [
              "<Figure size 432x288 with 1 Axes>"
            ]
          },
          "metadata": {
            "tags": []
          }
        }
      ]
    },
    {
      "cell_type": "markdown",
      "metadata": {
        "id": "1sCqdnSHW7ZV",
        "colab_type": "text"
      },
      "source": [
        "The *networkx* library randomly generates this graph. We will define $n_i$ as $i^{th}$ node of the graph for $i = 0, 1, ..., 10$ and $r(n_i,n_j)$ is the reward gained during transition from state $n_i$ to $n_j$. In general, the reward of allowable actions are set to zero except when entering the goal state ($n_{10}$). However, unallowed transitions should also be punished (i.e. negative reward). \n",
        "\n",
        "\\begin{equation*}\n",
        "r(n_i, n_j) = \\left\\{\n",
        "\\begin{array}{rl}\n",
        "-100 & \\text{if } n_i \\text{ & } n_j \\text{ are not connected} ,\\\\\n",
        "+100 & \\text{if } j = 10 \\text{ (goal)}\\\\\n",
        "0 & \\text{otherwise}.\n",
        "\\end{array} \\right.\n",
        "\\end{equation*}\n",
        "\n",
        "Using this case defined function for reward, lets form a reward matrix.\n",
        "\n",
        "\n"
      ]
    },
    {
      "cell_type": "code",
      "metadata": {
        "id": "jMvS08OZDn7q",
        "colab_type": "code",
        "outputId": "88e34672-f2c6-48e2-bf29-be872cc2947d",
        "colab": {
          "base_uri": "https://localhost:8080/",
          "height": 212
        }
      },
      "source": [
        "import numpy as np\n",
        "N = 11 #size of reward matrix\n",
        "R = np.matrix(np.ones(shape =(N, N))) #initialize an NxN matrix for reward \n",
        "R *= -100 #set all entries to -100 (assuming unallowed transition)\n",
        "  \n",
        "for node in edges: #loop over nodes\n",
        "    #print(node) \n",
        "    if node[1] == 10:    #if the transition of interest leads to the goal state,\n",
        "        R[node] = 100    #give a reward.\n",
        "    else:                #if not,\n",
        "        R[node] = 0      #no reward.\n",
        "\n",
        "R[10, 10]= 100 #the closed loop from goal to goal is rewarded to force staying there\n",
        "print(R) "
      ],
      "execution_count": 71,
      "outputs": [
        {
          "output_type": "stream",
          "text": [
            "[[-100. -100. -100.    0.    0. -100. -100. -100. -100. -100. -100.]\n",
            " [-100. -100.    0. -100.    0.    0. -100. -100.    0.    0. -100.]\n",
            " [-100.    0. -100.    0. -100.    0.    0. -100. -100. -100. -100.]\n",
            " [   0. -100.    0. -100. -100. -100. -100. -100. -100. -100. -100.]\n",
            " [   0.    0. -100. -100. -100. -100. -100. -100. -100. -100. -100.]\n",
            " [-100.    0.    0. -100. -100. -100.    0.    0. -100. -100. -100.]\n",
            " [-100. -100.    0. -100. -100.    0. -100. -100. -100. -100. -100.]\n",
            " [-100. -100. -100. -100. -100.    0. -100. -100.    0. -100. -100.]\n",
            " [-100.    0. -100. -100. -100. -100. -100.    0. -100.    0.  100.]\n",
            " [-100.    0. -100. -100. -100. -100. -100. -100.    0. -100.  100.]\n",
            " [-100. -100. -100. -100. -100. -100. -100. -100.    0.    0.  100.]]\n"
          ],
          "name": "stdout"
        }
      ]
    },
    {
      "cell_type": "markdown",
      "metadata": {
        "id": "skwr9dHFYN4M",
        "colab_type": "text"
      },
      "source": [
        "For each state and action we need to initialize Q-estimates to zero (i.e. $\\hat{Q}(s,a) = 0$). Notice that in this study I am using state and node interchangebly. Let us also define the discount factor, $\\gamma$, as $0.8$."
      ]
    },
    {
      "cell_type": "code",
      "metadata": {
        "id": "r-dAdOI1bFQW",
        "colab_type": "code",
        "outputId": "363e11b1-b1a3-44a0-92b5-3e8ece37faae",
        "colab": {
          "base_uri": "https://localhost:8080/",
          "height": 212
        }
      },
      "source": [
        "Q = np.matrix(np.zeros([N, N]))\n",
        "gamma = 0.8\n",
        "print(Q)"
      ],
      "execution_count": 56,
      "outputs": [
        {
          "output_type": "stream",
          "text": [
            "[[0. 0. 0. 0. 0. 0. 0. 0. 0. 0. 0.]\n",
            " [0. 0. 0. 0. 0. 0. 0. 0. 0. 0. 0.]\n",
            " [0. 0. 0. 0. 0. 0. 0. 0. 0. 0. 0.]\n",
            " [0. 0. 0. 0. 0. 0. 0. 0. 0. 0. 0.]\n",
            " [0. 0. 0. 0. 0. 0. 0. 0. 0. 0. 0.]\n",
            " [0. 0. 0. 0. 0. 0. 0. 0. 0. 0. 0.]\n",
            " [0. 0. 0. 0. 0. 0. 0. 0. 0. 0. 0.]\n",
            " [0. 0. 0. 0. 0. 0. 0. 0. 0. 0. 0.]\n",
            " [0. 0. 0. 0. 0. 0. 0. 0. 0. 0. 0.]\n",
            " [0. 0. 0. 0. 0. 0. 0. 0. 0. 0. 0.]\n",
            " [0. 0. 0. 0. 0. 0. 0. 0. 0. 0. 0.]]\n"
          ],
          "name": "stdout"
        }
      ]
    },
    {
      "cell_type": "markdown",
      "metadata": {
        "id": "XHGn1zgt4EGn",
        "colab_type": "text"
      },
      "source": [
        "Our initial state is $0^{th}$ node. Below we see rewards gained from each transition rooting from the initial state."
      ]
    },
    {
      "cell_type": "code",
      "metadata": {
        "id": "VsgkPH2g4DkX",
        "colab_type": "code",
        "colab": {
          "base_uri": "https://localhost:8080/",
          "height": 52
        },
        "outputId": "3d7fe8b4-969f-49fc-f3d0-6ede0f78a9fe"
      },
      "source": [
        "R[0,]"
      ],
      "execution_count": 57,
      "outputs": [
        {
          "output_type": "execute_result",
          "data": {
            "text/plain": [
              "matrix([[-100., -100., -100.,    0.,    0., -100., -100., -100., -100.,\n",
              "         -100., -100.]])"
            ]
          },
          "metadata": {
            "tags": []
          },
          "execution_count": 57
        }
      ]
    },
    {
      "cell_type": "markdown",
      "metadata": {
        "id": "22sNHJGf5CYc",
        "colab_type": "text"
      },
      "source": [
        "However, not all actions are allowed. Remember that there is no transition between unconnected nodes, so such actions are rewarded negatively (i.e with -100). So, available actions are non-zero ones. As it is seen from the graph above 0th node is connected to 3rd and 4th nodes."
      ]
    },
    {
      "cell_type": "code",
      "metadata": {
        "id": "_jEhgo966hv0",
        "colab_type": "code",
        "colab": {
          "base_uri": "https://localhost:8080/",
          "height": 34
        },
        "outputId": "29fa53c7-008a-45aa-c35f-dd46f7773484"
      },
      "source": [
        "np.where(R[0,] >= 0)[1]"
      ],
      "execution_count": 58,
      "outputs": [
        {
          "output_type": "execute_result",
          "data": {
            "text/plain": [
              "array([3, 4])"
            ]
          },
          "metadata": {
            "tags": []
          },
          "execution_count": 58
        }
      ]
    },
    {
      "cell_type": "markdown",
      "metadata": {
        "id": "fS7uVoKV7ax6",
        "colab_type": "text"
      },
      "source": [
        "The function below generalizes this to any node given."
      ]
    },
    {
      "cell_type": "code",
      "metadata": {
        "id": "GyWAl47H7g48",
        "colab_type": "code",
        "colab": {
          "base_uri": "https://localhost:8080/",
          "height": 34
        },
        "outputId": "450f3e01-766f-4f78-ada1-93f0f33c159e"
      },
      "source": [
        "def possible_transitions(node): \n",
        "    ''' Finds available actions that can be taken in a state.'''\n",
        "\n",
        "    rewards_for_state = R[node, ] # find the row related to the given state\n",
        "\n",
        "    #chose final states of the actions with nonzero reward values\n",
        "    possible_transition = np.where(rewards_for_state >= 0)[1]\n",
        "\n",
        "    return possible_transition\n",
        "#test\n",
        "print(possible_transitions(0)) "
      ],
      "execution_count": 59,
      "outputs": [
        {
          "output_type": "stream",
          "text": [
            "[3 4]\n"
          ],
          "name": "stdout"
        }
      ]
    },
    {
      "cell_type": "markdown",
      "metadata": {
        "id": "Yn7kCIH8BF15",
        "colab_type": "text"
      },
      "source": [
        "Let's choose a random action from the possible transitions. The number printed below will be index of the one of the nodes that can be taken from the 0th node."
      ]
    },
    {
      "cell_type": "code",
      "metadata": {
        "id": "dOvYt-7fBTX1",
        "colab_type": "code",
        "colab": {
          "base_uri": "https://localhost:8080/",
          "height": 34
        },
        "outputId": "0c072673-df0f-4b29-ff2c-fb0e624dc7f8"
      },
      "source": [
        "int(np.random.choice(possible_transitions(0), 1)) "
      ],
      "execution_count": 60,
      "outputs": [
        {
          "output_type": "execute_result",
          "data": {
            "text/plain": [
              "4"
            ]
          },
          "metadata": {
            "tags": []
          },
          "execution_count": 60
        }
      ]
    },
    {
      "cell_type": "markdown",
      "metadata": {
        "id": "SnxdVedFB1Me",
        "colab_type": "text"
      },
      "source": [
        "Similarly it can be generalized to other nodes, as below."
      ]
    },
    {
      "cell_type": "code",
      "metadata": {
        "id": "dPXvJJSKB3ux",
        "colab_type": "code",
        "colab": {
          "base_uri": "https://localhost:8080/",
          "height": 34
        },
        "outputId": "be4466e3-442d-4057-a391-ba067b5953db"
      },
      "source": [
        "def next_state(possible_transitions_range): \n",
        "    ''' Random sampling of available actions'''\n",
        "\n",
        "    next = int(np.random.choice(possible_transitions_range, 1)) \n",
        "    return next\n",
        "\n",
        "#test\n",
        "node = 0\n",
        "actions_available = possible_transitions(node)\n",
        "next_node = next_state(actions_available)\n",
        "print(next_node)"
      ],
      "execution_count": 61,
      "outputs": [
        {
          "output_type": "stream",
          "text": [
            "3\n"
          ],
          "name": "stdout"
        }
      ]
    },
    {
      "cell_type": "markdown",
      "metadata": {
        "id": "kuPHeugJEzpe",
        "colab_type": "text"
      },
      "source": [
        "Let's update Q-estimates for a randomly chosen path."
      ]
    },
    {
      "cell_type": "code",
      "metadata": {
        "id": "TBc3Y0FdE0C9",
        "colab_type": "code",
        "colab": {
          "base_uri": "https://localhost:8080/",
          "height": 34
        },
        "outputId": "7f6f3cf8-0f5d-4a87-9e4a-de71f9ee1196"
      },
      "source": [
        "def update(current_node, action, gamma): \n",
        "    ''' This function updates'''\n",
        "    #index of\n",
        "    max_index = np.where(Q[action, ] == np.max(Q[action, ]))[1] \n",
        "    if max_index.shape[0] > 1:\n",
        "        max_index = int(np.random.choice(max_index, size = 1)) \n",
        "    else:\n",
        "        max_index = int(max_index) \n",
        "    \n",
        "    max_value = Q[action, max_index]\n",
        "    Q[current_node, action] = R[current_node, action] + gamma * max_value\n",
        "    if (np.max(Q) > 0):\n",
        "        return(np.sum(Q / np.max(Q)*100)) \n",
        "    else:\n",
        "        return (0) \n",
        "# Updates the Q-Matrix according to the path chosen \n",
        "  \n",
        "update(0, next_node, gamma) "
      ],
      "execution_count": 66,
      "outputs": [
        {
          "output_type": "execute_result",
          "data": {
            "text/plain": [
              "0"
            ]
          },
          "metadata": {
            "tags": []
          },
          "execution_count": 66
        }
      ]
    },
    {
      "cell_type": "code",
      "metadata": {
        "id": "VoR2T5BziLyu",
        "colab_type": "code",
        "colab": {
          "base_uri": "https://localhost:8080/",
          "height": 314
        },
        "outputId": "5fcb61f1-6b06-4e81-bad0-003c996b3dd9"
      },
      "source": [
        "scores = [] \n",
        "for i in range(1000): \n",
        "    current_state = np.random.randint(0, int(Q.shape[0])) \n",
        "    available_action =possible_transitions(current_state) \n",
        "    action = next_state(available_action) \n",
        "    score = update(current_state, action, gamma) \n",
        "    scores.append(score) \n",
        "  \n",
        "# print(\"Trained Q matrix:\") \n",
        "# print(Q / np.max(Q)*100) \n",
        "# You can uncomment the above two lines to view the trained Q matrix \n",
        "  \n",
        "# Testing \n",
        "current_state = 0\n",
        "steps = [current_state] \n",
        "  \n",
        "while current_state != 10: \n",
        "  \n",
        "    next_step_index = np.where(Q[current_state, ] == np.max(Q[current_state, ]))[1] \n",
        "    if next_step_index.shape[0] > 1: \n",
        "        next_step_index = int(np.random.choice(next_step_index, size = 1)) \n",
        "    else: \n",
        "        next_step_index = int(next_step_index) \n",
        "    steps.append(next_step_index) \n",
        "    current_state = next_step_index \n",
        "  \n",
        "print(\"Most efficient path:\") \n",
        "print(steps) \n",
        "  \n",
        "pl.plot(scores) \n",
        "pl.xlabel('No of iterations') \n",
        "pl.ylabel('Reward gained') \n",
        "pl.show() "
      ],
      "execution_count": 70,
      "outputs": [
        {
          "output_type": "stream",
          "text": [
            "Most efficient path:\n",
            "[0, 4, 1, 8, 10]\n"
          ],
          "name": "stdout"
        },
        {
          "output_type": "display_data",
          "data": {
            "image/png": "[encoded data removed]",
            "text/plain": [
              "<Figure size 432x288 with 1 Axes>"
            ]
          },
          "metadata": {
            "tags": []
          }
        }
      ]
    },
    {
      "cell_type": "markdown",
      "metadata": {
        "id": "f36NyYP7kX6x",
        "colab_type": "text"
      },
      "source": [
        "## References\n",
        "\n",
        "1. [Intro to Reinforcement Learning: Q-Learning 101](https://medium.com/analytics-vidhya/intro-to-reinforcement-learning-q-learning-101-8df55fed9be0)\n",
        "2. [Understanding Q-Learning, the Cliff Walking problem](https://medium.com/@lgvaz/understanding-q-learning-the-cliff-walking-problem-80198921abbc)\n",
        "3. [An introduction to Q-Learning: reinforcement learning](https://www.freecodecamp.org/news/an-introduction-to-q-learning-reinforcement-learning-14ac0b4493cc/)\n",
        "4. Machine Learning, Tom Mitchell, McGraw Hill, 1997.\n",
        "5. [ML | Reinforcement Learning Algorithm : Python Implementation using Q-learning](https://www.geeksforgeeks.org/ml-reinforcement-learning-algorithm-python-implementation-using-q-learning/)"
      ]
    }
  ]
}