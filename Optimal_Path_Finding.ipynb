{
  "nbformat": 4,
  "nbformat_minor": 0,
  "metadata": {
    "colab": {
      "name": "Optimal_Path_Finding.ipynb",
      "provenance": [],
      "collapsed_sections": [],
      "include_colab_link": true
    },
    "kernelspec": {
      "name": "python3",
      "display_name": "Python 3"
    }
  },
  "cells": [
    {
      "cell_type": "markdown",
      "metadata": {
        "id": "view-in-github",
        "colab_type": "text"
      },
      "source": [
        "<a href=\"https://colab.research.google.com/github/duyqu-chan/Reinforcement-Learning/blob/master/Optimal_Path_Finding.ipynb\" target=\"_parent\"><img src=\"https://colab.research.google.com/assets/colab-badge.svg\" alt=\"Open In Colab\"/></a>"
      ]
    },
    {
      "cell_type": "markdown",
      "metadata": {
        "id": "n0uk3nWNQG9V",
        "colab_type": "text"
      },
      "source": [
        "# Finding Shortest Path with Q-Learning\n",
        "\n",
        "Duygu Can\n",
        "---\n",
        "Starting from node 0,  we need to find the shortest path to node 10 in the undirected graph shown below, with *Q-Learning* algorithm. "
      ]
    },
    {
      "cell_type": "code",
      "metadata": {
        "id": "YMCGqSs-NtmL",
        "colab_type": "code",
        "outputId": "590e8e01-0531-40b1-eec7-018a435e88c0",
        "colab": {
          "base_uri": "https://localhost:8080/",
          "height": 247
        }
      },
      "source": [
        "import networkx as nx\n",
        "import pylab as pl\n",
        "edges = [(0, 4), (4, 0), (0, 3), (3, 0), (1, 2), (2, 1),\n",
        "         (1, 4), (4, 1), (1, 8), (8, 1), (1, 9), (9, 1),\n",
        "         (2, 3), (3, 2), (2, 6), (6, 2), (1, 5), (5, 1),\n",
        "         (2, 5), (5, 2), (5, 6), (6, 5), (7, 8), (8, 7),\n",
        "         (7, 5), (5, 7), (8, 9), (9, 8), (8, 10), (10, 8),\n",
        "         (9, 10), (10, 9)]\n",
        "\n",
        "G = nx.Graph()\n",
        "G.add_edges_from(edges)\n",
        "pos = nx.spring_layout(G)\n",
        "nx.draw_networkx_nodes(G, pos)\n",
        "nx.draw_networkx_edges(G, pos)\n",
        "nx.draw_networkx_labels(G, pos)\n",
        "pl.show()"
      ],
      "execution_count": 1,
      "outputs": [
        {
          "output_type": "display_data",
          "data": {
            "image/png": "[encoded data removed]",
            "text/plain": [
              "<Figure size 432x288 with 1 Axes>"
            ]
          },
          "metadata": {
            "tags": []
          }
        }
      ]
    },
    {
      "cell_type": "markdown",
      "metadata": {
        "id": "1sCqdnSHW7ZV",
        "colab_type": "text"
      },
      "source": [
        "The *networkx* library randomly generates this graph. We will define $n_i$ as $i^{th}$ node of the graph for $i = 0, 1, ..., 10$ and $r(n_i,n_j)$ is the reward gained during transition from state $n_i$ to $n_j$. In general, the reward of allowable actions are set to zero except when entering the goal state ($n_{10}$). However, unallowed transitions should also be punished (i.e. negative reward). \n",
        "\n",
        "\\begin{equation*}\n",
        "r(n_i, n_j) = \\left\\{\n",
        "\\begin{array}{rl}\n",
        "-1 & \\text{if } n_i \\text{ & } n_j \\text{ are not connected} ,\\\\\n",
        "+1 & \\text{if } j = 10 \\text{ (goal)}\\\\\n",
        "0 & \\text{otherwise}.\n",
        "\\end{array} \\right.\n",
        "\\end{equation*}\n",
        "\n",
        "Using this case defined function for reward, lets form a reward matrix.\n",
        "\n",
        "\n"
      ]
    },
    {
      "cell_type": "code",
      "metadata": {
        "id": "jMvS08OZDn7q",
        "colab_type": "code",
        "outputId": "fc641b63-0d58-4763-d653-e7a1e1e9fae7",
        "colab": {
          "base_uri": "https://localhost:8080/",
          "height": 212
        }
      },
      "source": [
        "import numpy as np\n",
        "N = 11 #size of reward matrix\n",
        "R = np.matrix(np.ones(shape =(N, N))) #initialize an NxN matrix for reward \n",
        "R *= -1 #set all entries to -100 (assuming unallowed transition)\n",
        "  \n",
        "for node in edges: #loop over nodes\n",
        "    #print(node) \n",
        "    if node[1] == 10:    #if the transition of interest leads to the goal state,\n",
        "        R[node] = 1   #give a reward.\n",
        "    else:                #if not,\n",
        "        R[node] = 0      #no reward.\n",
        "\n",
        "R[10, 10]= 1 #the closed loop from goal to goal is rewarded to force staying action\n",
        "print(R) "
      ],
      "execution_count": 2,
      "outputs": [
        {
          "output_type": "stream",
          "text": [
            "[[-1. -1. -1.  0.  0. -1. -1. -1. -1. -1. -1.]\n",
            " [-1. -1.  0. -1.  0.  0. -1. -1.  0.  0. -1.]\n",
            " [-1.  0. -1.  0. -1.  0.  0. -1. -1. -1. -1.]\n",
            " [ 0. -1.  0. -1. -1. -1. -1. -1. -1. -1. -1.]\n",
            " [ 0.  0. -1. -1. -1. -1. -1. -1. -1. -1. -1.]\n",
            " [-1.  0.  0. -1. -1. -1.  0.  0. -1. -1. -1.]\n",
            " [-1. -1.  0. -1. -1.  0. -1. -1. -1. -1. -1.]\n",
            " [-1. -1. -1. -1. -1.  0. -1. -1.  0. -1. -1.]\n",
            " [-1.  0. -1. -1. -1. -1. -1.  0. -1.  0.  1.]\n",
            " [-1.  0. -1. -1. -1. -1. -1. -1.  0. -1.  1.]\n",
            " [-1. -1. -1. -1. -1. -1. -1. -1.  0.  0.  1.]]\n"
          ],
          "name": "stdout"
        }
      ]
    },
    {
      "cell_type": "markdown",
      "metadata": {
        "id": "skwr9dHFYN4M",
        "colab_type": "text"
      },
      "source": [
        "For each state and action we need to initialize Q-estimates to zero (i.e. $\\hat{Q}(s,a) = 0$). Notice that in this study I am using state and node interchangebly. Let us also define the discount factor, $\\gamma$, as $0.8$."
      ]
    },
    {
      "cell_type": "code",
      "metadata": {
        "id": "r-dAdOI1bFQW",
        "colab_type": "code",
        "outputId": "02a4c74b-47a4-452e-980a-f2feff8f556b",
        "colab": {
          "base_uri": "https://localhost:8080/",
          "height": 212
        }
      },
      "source": [
        "Q = np.matrix(np.zeros([N, N]))\n",
        "gamma = 0.8\n",
        "print(Q)"
      ],
      "execution_count": 3,
      "outputs": [
        {
          "output_type": "stream",
          "text": [
            "[[0. 0. 0. 0. 0. 0. 0. 0. 0. 0. 0.]\n",
            " [0. 0. 0. 0. 0. 0. 0. 0. 0. 0. 0.]\n",
            " [0. 0. 0. 0. 0. 0. 0. 0. 0. 0. 0.]\n",
            " [0. 0. 0. 0. 0. 0. 0. 0. 0. 0. 0.]\n",
            " [0. 0. 0. 0. 0. 0. 0. 0. 0. 0. 0.]\n",
            " [0. 0. 0. 0. 0. 0. 0. 0. 0. 0. 0.]\n",
            " [0. 0. 0. 0. 0. 0. 0. 0. 0. 0. 0.]\n",
            " [0. 0. 0. 0. 0. 0. 0. 0. 0. 0. 0.]\n",
            " [0. 0. 0. 0. 0. 0. 0. 0. 0. 0. 0.]\n",
            " [0. 0. 0. 0. 0. 0. 0. 0. 0. 0. 0.]\n",
            " [0. 0. 0. 0. 0. 0. 0. 0. 0. 0. 0.]]\n"
          ],
          "name": "stdout"
        }
      ]
    },
    {
      "cell_type": "markdown",
      "metadata": {
        "id": "XHGn1zgt4EGn",
        "colab_type": "text"
      },
      "source": [
        "Our initial state is $0^{th}$ node. Below we see rewards gained from each transition rooting from the initial state."
      ]
    },
    {
      "cell_type": "code",
      "metadata": {
        "id": "VsgkPH2g4DkX",
        "colab_type": "code",
        "colab": {
          "base_uri": "https://localhost:8080/",
          "height": 34
        },
        "outputId": "2465deeb-44bf-4383-de83-df9fea3736c8"
      },
      "source": [
        "R[0,]"
      ],
      "execution_count": 4,
      "outputs": [
        {
          "output_type": "execute_result",
          "data": {
            "text/plain": [
              "matrix([[-1., -1., -1.,  0.,  0., -1., -1., -1., -1., -1., -1.]])"
            ]
          },
          "metadata": {
            "tags": []
          },
          "execution_count": 4
        }
      ]
    },
    {
      "cell_type": "markdown",
      "metadata": {
        "id": "22sNHJGf5CYc",
        "colab_type": "text"
      },
      "source": [
        "However, not all actions are allowed. Remember that there is no transition between unconnected nodes, so such actions are rewarded negatively (i.e with -100). So, available actions are non-zero ones. As it is seen from the graph above 0th node is connected to 3rd and 4th nodes."
      ]
    },
    {
      "cell_type": "code",
      "metadata": {
        "id": "_jEhgo966hv0",
        "colab_type": "code",
        "colab": {
          "base_uri": "https://localhost:8080/",
          "height": 34
        },
        "outputId": "154aac45-94d3-4d66-faaf-30cc241d98fd"
      },
      "source": [
        "np.where(R[0,] >= 0)[1]"
      ],
      "execution_count": 5,
      "outputs": [
        {
          "output_type": "execute_result",
          "data": {
            "text/plain": [
              "array([3, 4])"
            ]
          },
          "metadata": {
            "tags": []
          },
          "execution_count": 5
        }
      ]
    },
    {
      "cell_type": "markdown",
      "metadata": {
        "id": "fS7uVoKV7ax6",
        "colab_type": "text"
      },
      "source": [
        "The function below generalizes this to any node given."
      ]
    },
    {
      "cell_type": "code",
      "metadata": {
        "id": "GyWAl47H7g48",
        "colab_type": "code",
        "colab": {
          "base_uri": "https://localhost:8080/",
          "height": 34
        },
        "outputId": "bd10776d-2315-4fa4-a745-27ece71714eb"
      },
      "source": [
        "def possible_transitions(node): \n",
        "    ''' Finds available actions that can be taken in a state.'''\n",
        "\n",
        "    rewards_for_state = R[node, ] # find the row related to the given state\n",
        "\n",
        "    #chose final states of the actions with nonzero reward values\n",
        "    possible_transition = np.where(rewards_for_state >= 0)[1]\n",
        "\n",
        "    return possible_transition\n",
        "#test\n",
        "print(possible_transitions(0)) "
      ],
      "execution_count": 6,
      "outputs": [
        {
          "output_type": "stream",
          "text": [
            "[3 4]\n"
          ],
          "name": "stdout"
        }
      ]
    },
    {
      "cell_type": "markdown",
      "metadata": {
        "id": "Yn7kCIH8BF15",
        "colab_type": "text"
      },
      "source": [
        "Let's choose a random action from the possible transitions. The number printed below will be index of the one of the nodes that can be taken from the 0th node."
      ]
    },
    {
      "cell_type": "code",
      "metadata": {
        "id": "dOvYt-7fBTX1",
        "colab_type": "code",
        "colab": {
          "base_uri": "https://localhost:8080/",
          "height": 34
        },
        "outputId": "e206e1cd-1095-4996-83ac-496f1fed552f"
      },
      "source": [
        "int(np.random.choice(possible_transitions(0), 1)) "
      ],
      "execution_count": 7,
      "outputs": [
        {
          "output_type": "execute_result",
          "data": {
            "text/plain": [
              "3"
            ]
          },
          "metadata": {
            "tags": []
          },
          "execution_count": 7
        }
      ]
    },
    {
      "cell_type": "markdown",
      "metadata": {
        "id": "SnxdVedFB1Me",
        "colab_type": "text"
      },
      "source": [
        "Similarly it can be generalized to other nodes, as below."
      ]
    },
    {
      "cell_type": "code",
      "metadata": {
        "id": "dPXvJJSKB3ux",
        "colab_type": "code",
        "colab": {
          "base_uri": "https://localhost:8080/",
          "height": 34
        },
        "outputId": "dc5c34e9-95c2-4550-f3e0-a2bfdf29dc09"
      },
      "source": [
        "def next_state(possible_transitions_range): \n",
        "    ''' Random sampling of available actions'''\n",
        "\n",
        "    next = int(np.random.choice(possible_transitions_range, 1)) \n",
        "    return next\n",
        "\n",
        "#test\n",
        "node = 0\n",
        "actions_available = possible_transitions(node)\n",
        "next_node = next_state(actions_available)\n",
        "print(next_node)"
      ],
      "execution_count": 8,
      "outputs": [
        {
          "output_type": "stream",
          "text": [
            "3\n"
          ],
          "name": "stdout"
        }
      ]
    },
    {
      "cell_type": "markdown",
      "metadata": {
        "id": "kuPHeugJEzpe",
        "colab_type": "text"
      },
      "source": [
        "Learner's estimate will be updated according to the following training rule,\n",
        "\n",
        "$ \\hat{Q}(s,a) \\leftarrow r + \n",
        "\\gamma \\text{ }\\underset{a \\prime}max \\hat{Q}(s \\prime,a\\prime) $\n",
        "\n",
        "where $s$ and $s \\prime$ define current and succeeding states respectively; $a$ is the action taken to reach the succeeding state; $a \\prime$ stands for all possible action that can be taken in the succeeding state; $r$ is for immediate reward and finally  $\\gamma$ is the discount factor used in determining discounted future rewards ($0\\leq \\gamma \\leq 1$).\n",
        "\n",
        "Let's update Q-estimates for a randomly chosen path."
      ]
    },
    {
      "cell_type": "code",
      "metadata": {
        "id": "TBc3Y0FdE0C9",
        "colab_type": "code",
        "colab": {
          "base_uri": "https://localhost:8080/",
          "height": 34
        },
        "outputId": "10514643-6f9d-41a6-ab53-354239fc17a2"
      },
      "source": [
        "def update(current_node, next_node, gamma): \n",
        "    ''' This function updates Q-estimates after each episode'''\n",
        "    #indices of Q-matrix entries (of succeeding states) with maximum values are found\n",
        "    max_index = np.where(Q[next_node, ] == np.max(Q[next_node, ]))[1] \n",
        "    #if number of max valued matrix entries is more than one,\n",
        "    #just randomly choose one of them \n",
        "    if max_index.shape[0] > 1:\n",
        "        max_index = int(np.random.choice(max_index, size = 1)) \n",
        "    else: #if not the index we found determines the max valued transition (action)\n",
        "        max_index = int(max_index) #of the succeeding state\n",
        "    \n",
        "    max_value = Q[next_node, max_index]\n",
        "    Q[current_node, next_node] = R[current_node, next_node] + gamma * max_value\n",
        "    if (np.max(Q) > 0):\n",
        "        return(np.sum(Q / np.max(Q)*1)) #scaling\n",
        "    else:\n",
        "        return (0) \n",
        "#test\n",
        "# Since Q-matrix entries initialized as zero, and no reward gained for \n",
        "# transitions from 0th node to other possible states at first trial its value\n",
        "# remains the same.\n",
        "update(0, next_node, gamma) "
      ],
      "execution_count": 9,
      "outputs": [
        {
          "output_type": "execute_result",
          "data": {
            "text/plain": [
              "0"
            ]
          },
          "metadata": {
            "tags": []
          },
          "execution_count": 9
        }
      ]
    },
    {
      "cell_type": "code",
      "metadata": {
        "id": "VhjuFwYAE-40",
        "colab_type": "code",
        "colab": {
          "base_uri": "https://localhost:8080/",
          "height": 34
        },
        "outputId": "e92ce7d3-70df-4a55-8704-eaf9e5341787"
      },
      "source": [
        "np.random.randint(0, int(Q.shape[0])) "
      ],
      "execution_count": 10,
      "outputs": [
        {
          "output_type": "execute_result",
          "data": {
            "text/plain": [
              "4"
            ]
          },
          "metadata": {
            "tags": []
          },
          "execution_count": 10
        }
      ]
    },
    {
      "cell_type": "markdown",
      "metadata": {
        "id": "TzHgrlAw4Ijv",
        "colab_type": "text"
      },
      "source": [
        "## Training\n",
        "\n",
        "Starting from an random "
      ]
    },
    {
      "cell_type": "code",
      "metadata": {
        "id": "L-Djot8EG14C",
        "colab_type": "code",
        "colab": {
          "base_uri": "https://localhost:8080/",
          "height": 425
        },
        "outputId": "7c223476-dcec-471a-9fcf-0f06ee32e283"
      },
      "source": [
        "scores = [] #initialize an empty array for scores gained durint training\n",
        "for i in range(2000): #actually upon experiment, 750 episodes is found enough for convergence\n",
        "    current_state = np.random.randint(0, int(Q.shape[0])) \n",
        "    available_node =possible_transitions(current_state) \n",
        "    action = next_state(available_node) \n",
        "    score = update(current_state, action, gamma) \n",
        "    scores.append(score) \n",
        "  \n",
        "print(\"Converged Q-matrix:\") \n",
        "print(Q)"
      ],
      "execution_count": 11,
      "outputs": [
        {
          "output_type": "stream",
          "text": [
            "Converged Q-matrix:\n",
            "[[0.         0.         0.         2.04799246 2.55998158 0.\n",
            "  0.         0.         0.         0.         0.        ]\n",
            " [0.         0.         2.55999057 0.         2.55998158 2.55999057\n",
            "  0.         0.         3.99998527 3.99998158 0.        ]\n",
            " [0.         3.19998821 0.         2.04798527 0.         2.55999057\n",
            "  2.04799246 0.         0.         0.         0.        ]\n",
            " [2.04798527 0.         2.55999057 0.         0.         0.\n",
            "  0.         0.         0.         0.         0.        ]\n",
            " [2.04798527 3.19998821 0.         0.         0.         0.\n",
            "  0.         0.         0.         0.         0.        ]\n",
            " [0.         3.19998821 2.55999057 0.         0.         0.\n",
            "  2.04799246 3.19998527 0.         0.         0.        ]\n",
            " [0.         0.         2.55999057 0.         0.         2.55998821\n",
            "  0.         0.         0.         0.         0.        ]\n",
            " [0.         0.         0.         0.         0.         2.55999057\n",
            "  0.         0.         3.99998158 0.         0.        ]\n",
            " [0.         3.19998821 0.         0.         0.         0.\n",
            "  0.         3.19998527 0.         3.99998158 4.99998527]\n",
            " [0.         3.19998821 0.         0.         0.         0.\n",
            "  0.         0.         3.99998158 0.         4.99998527]\n",
            " [0.         0.         0.         0.         0.         0.\n",
            "  0.         0.         3.99998527 3.99998158 4.99998527]]\n"
          ],
          "name": "stdout"
        }
      ]
    },
    {
      "cell_type": "code",
      "metadata": {
        "id": "VoR2T5BziLyu",
        "colab_type": "code",
        "colab": {
          "base_uri": "https://localhost:8080/",
          "height": 314
        },
        "outputId": "9b927d0f-d4ed-408d-d324-192b6044d912"
      },
      "source": [
        " # Testing \n",
        "current_state = 0\n",
        "steps = [current_state] \n",
        "  \n",
        "while current_state != 10: \n",
        "  \n",
        "    next_step_index = np.where(Q[current_state, ] == np.max(Q[current_state, ]))[1] \n",
        "    if next_step_index.shape[0] > 1: \n",
        "        next_step_index = int(np.random.choice(next_step_index, size = 1)) \n",
        "    else: \n",
        "        next_step_index = int(next_step_index) \n",
        "    steps.append(next_step_index) \n",
        "    current_state = next_step_index \n",
        "  \n",
        "print(\"Optimal Policy:\") \n",
        "print(steps) \n",
        "  \n",
        "pl.plot(scores) \n",
        "pl.xlabel('No of iterations') \n",
        "pl.ylabel('Total Reward') \n",
        "pl.show() "
      ],
      "execution_count": 12,
      "outputs": [
        {
          "output_type": "stream",
          "text": [
            "Optimal Policy:\n",
            "[0, 4, 1, 8, 10]\n"
          ],
          "name": "stdout"
        },
        {
          "output_type": "display_data",
          "data": {
            "image/png": "[encoded data removed]",
            "text/plain": [
              "<Figure size 432x288 with 1 Axes>"
            ]
          },
          "metadata": {
            "tags": []
          }
        }
      ]
    },
    {
      "cell_type": "markdown",
      "metadata": {
        "id": "f36NyYP7kX6x",
        "colab_type": "text"
      },
      "source": [
        "## References\n",
        "\n",
        "1. [Intro to Reinforcement Learning: Q-Learning 101](https://medium.com/analytics-vidhya/intro-to-reinforcement-learning-q-learning-101-8df55fed9be0)\n",
        "2. [Understanding Q-Learning, the Cliff Walking problem](https://medium.com/@lgvaz/understanding-q-learning-the-cliff-walking-problem-80198921abbc)\n",
        "3. [An introduction to Q-Learning: reinforcement learning](https://www.freecodecamp.org/news/an-introduction-to-q-learning-reinforcement-learning-14ac0b4493cc/)\n",
        "4. Machine Learning, Tom Mitchell, McGraw Hill, 1997.\n",
        "5. [ML | Reinforcement Learning Algorithm : Python Implementation using Q-learning](https://www.geeksforgeeks.org/ml-reinforcement-learning-algorithm-python-implementation-using-q-learning/)"
      ]
    }
  ]
}